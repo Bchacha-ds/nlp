{
 "cells": [
  {
   "cell_type": "markdown",
   "id": "6e173300",
   "metadata": {},
   "source": [
    "## Sentiment Analysis\n",
    "We'll be using tweets to create a decisiontree model capable of classifying tweets as positive or negative."
   ]
  },
  {
   "cell_type": "code",
   "execution_count": 1,
   "id": "c0d53d2d",
   "metadata": {},
   "outputs": [
    {
     "data": {
      "application/vnd.microsoft.datawrangler.viewer.v0+json": {
       "columns": [
        {
         "name": "index",
         "rawType": "int64",
         "type": "integer"
        },
        {
         "name": "Tweet",
         "rawType": "object",
         "type": "string"
        },
        {
         "name": "Sentiment",
         "rawType": "object",
         "type": "string"
        }
       ],
       "ref": "7ed9caa9-0d55-49f5-959a-2eb50c2e5091",
       "rows": [
        [
         "0",
         "Space missions help us learn more about the universe and our place in it.",
         "positive"
        ],
        [
         "1",
         "They advance scientific knowledge and improve our understanding of space and technology.",
         "positive"
        ],
        [
         "2",
         "Space missions help to inspire the next generation of scientists and engineers.",
         "positive"
        ],
        [
         "3",
         "They provide opportunities for international cooperation and collaboration.",
         "positive"
        ],
        [
         "4",
         "Space missions help us to develop new technologies and materials that have practical applications on Earth.",
         "positive"
        ]
       ],
       "shape": {
        "columns": 2,
        "rows": 5
       }
      },
      "text/html": [
       "<div>\n",
       "<style scoped>\n",
       "    .dataframe tbody tr th:only-of-type {\n",
       "        vertical-align: middle;\n",
       "    }\n",
       "\n",
       "    .dataframe tbody tr th {\n",
       "        vertical-align: top;\n",
       "    }\n",
       "\n",
       "    .dataframe thead th {\n",
       "        text-align: right;\n",
       "    }\n",
       "</style>\n",
       "<table border=\"1\" class=\"dataframe\">\n",
       "  <thead>\n",
       "    <tr style=\"text-align: right;\">\n",
       "      <th></th>\n",
       "      <th>Tweet</th>\n",
       "      <th>Sentiment</th>\n",
       "    </tr>\n",
       "  </thead>\n",
       "  <tbody>\n",
       "    <tr>\n",
       "      <th>0</th>\n",
       "      <td>Space missions help us learn more about the un...</td>\n",
       "      <td>positive</td>\n",
       "    </tr>\n",
       "    <tr>\n",
       "      <th>1</th>\n",
       "      <td>They advance scientific knowledge and improve ...</td>\n",
       "      <td>positive</td>\n",
       "    </tr>\n",
       "    <tr>\n",
       "      <th>2</th>\n",
       "      <td>Space missions help to inspire the next genera...</td>\n",
       "      <td>positive</td>\n",
       "    </tr>\n",
       "    <tr>\n",
       "      <th>3</th>\n",
       "      <td>They provide opportunities for international c...</td>\n",
       "      <td>positive</td>\n",
       "    </tr>\n",
       "    <tr>\n",
       "      <th>4</th>\n",
       "      <td>Space missions help us to develop new technolo...</td>\n",
       "      <td>positive</td>\n",
       "    </tr>\n",
       "  </tbody>\n",
       "</table>\n",
       "</div>"
      ],
      "text/plain": [
       "                                               Tweet Sentiment\n",
       "0  Space missions help us learn more about the un...  positive\n",
       "1  They advance scientific knowledge and improve ...  positive\n",
       "2  Space missions help to inspire the next genera...  positive\n",
       "3  They provide opportunities for international c...  positive\n",
       "4  Space missions help us to develop new technolo...  positive"
      ]
     },
     "execution_count": 1,
     "metadata": {},
     "output_type": "execute_result"
    }
   ],
   "source": [
    "import pandas as pd \n",
    "\n",
    "\n",
    "df = pd.read_csv('./data/tweets.csv')\n",
    "\n",
    "df.head()"
   ]
  },
  {
   "cell_type": "code",
   "execution_count": 3,
   "id": "48c7c306",
   "metadata": {},
   "outputs": [
    {
     "data": {
      "application/vnd.microsoft.datawrangler.viewer.v0+json": {
       "columns": [
        {
         "name": "Sentiment",
         "rawType": "object",
         "type": "string"
        },
        {
         "name": "count",
         "rawType": "int64",
         "type": "integer"
        }
       ],
       "ref": "d0baed55-d7bb-4abd-8f89-c97e91f6ae21",
       "rows": [
        [
         "positive",
         "31"
        ],
        [
         "negative",
         "18"
        ]
       ],
       "shape": {
        "columns": 1,
        "rows": 2
       }
      },
      "text/plain": [
       "Sentiment\n",
       "positive    31\n",
       "negative    18\n",
       "Name: count, dtype: int64"
      ]
     },
     "execution_count": 3,
     "metadata": {},
     "output_type": "execute_result"
    }
   ],
   "source": [
    "df['Sentiment'].value_counts()"
   ]
  },
  {
   "cell_type": "code",
   "execution_count": 4,
   "id": "b7f383ed",
   "metadata": {},
   "outputs": [],
   "source": [
    "#preprocessing( lower case the text and remove punctuation)\n",
    "import string\n",
    "\n",
    "cleaned_tweet = []\n",
    "\n",
    "for tweet in df['Tweet']:\n",
    "    lower_tweet = tweet.lower()\n",
    "\n",
    "    tweet_no_punc = \"\"\n",
    "    for _ in lower_tweet:\n",
    "        if _ not in string.punctuation:\n",
    "            tweet_no_punc += _\n",
    "\n",
    "    cleaned_tweet.append(tweet_no_punc)\n",
    "\n",
    "df['tweets']  = cleaned_tweet\n",
    "\n",
    "\n"
   ]
  },
  {
   "cell_type": "code",
   "execution_count": 5,
   "id": "283bcb19",
   "metadata": {},
   "outputs": [
    {
     "data": {
      "application/vnd.microsoft.datawrangler.viewer.v0+json": {
       "columns": [
        {
         "name": "index",
         "rawType": "int64",
         "type": "integer"
        },
        {
         "name": "Tweet",
         "rawType": "object",
         "type": "string"
        },
        {
         "name": "Sentiment",
         "rawType": "object",
         "type": "string"
        },
        {
         "name": "tweets",
         "rawType": "object",
         "type": "string"
        }
       ],
       "ref": "23552938-df0d-4b5d-9f35-afa91bec1d86",
       "rows": [
        [
         "0",
         "Space missions help us learn more about the universe and our place in it.",
         "positive",
         "space missions help us learn more about the universe and our place in it"
        ],
        [
         "1",
         "They advance scientific knowledge and improve our understanding of space and technology.",
         "positive",
         "they advance scientific knowledge and improve our understanding of space and technology"
        ],
        [
         "2",
         "Space missions help to inspire the next generation of scientists and engineers.",
         "positive",
         "space missions help to inspire the next generation of scientists and engineers"
        ],
        [
         "3",
         "They provide opportunities for international cooperation and collaboration.",
         "positive",
         "they provide opportunities for international cooperation and collaboration"
        ],
        [
         "4",
         "Space missions help us to develop new technologies and materials that have practical applications on Earth.",
         "positive",
         "space missions help us to develop new technologies and materials that have practical applications on earth"
        ]
       ],
       "shape": {
        "columns": 3,
        "rows": 5
       }
      },
      "text/html": [
       "<div>\n",
       "<style scoped>\n",
       "    .dataframe tbody tr th:only-of-type {\n",
       "        vertical-align: middle;\n",
       "    }\n",
       "\n",
       "    .dataframe tbody tr th {\n",
       "        vertical-align: top;\n",
       "    }\n",
       "\n",
       "    .dataframe thead th {\n",
       "        text-align: right;\n",
       "    }\n",
       "</style>\n",
       "<table border=\"1\" class=\"dataframe\">\n",
       "  <thead>\n",
       "    <tr style=\"text-align: right;\">\n",
       "      <th></th>\n",
       "      <th>Tweet</th>\n",
       "      <th>Sentiment</th>\n",
       "      <th>tweets</th>\n",
       "    </tr>\n",
       "  </thead>\n",
       "  <tbody>\n",
       "    <tr>\n",
       "      <th>0</th>\n",
       "      <td>Space missions help us learn more about the un...</td>\n",
       "      <td>positive</td>\n",
       "      <td>space missions help us learn more about the un...</td>\n",
       "    </tr>\n",
       "    <tr>\n",
       "      <th>1</th>\n",
       "      <td>They advance scientific knowledge and improve ...</td>\n",
       "      <td>positive</td>\n",
       "      <td>they advance scientific knowledge and improve ...</td>\n",
       "    </tr>\n",
       "    <tr>\n",
       "      <th>2</th>\n",
       "      <td>Space missions help to inspire the next genera...</td>\n",
       "      <td>positive</td>\n",
       "      <td>space missions help to inspire the next genera...</td>\n",
       "    </tr>\n",
       "    <tr>\n",
       "      <th>3</th>\n",
       "      <td>They provide opportunities for international c...</td>\n",
       "      <td>positive</td>\n",
       "      <td>they provide opportunities for international c...</td>\n",
       "    </tr>\n",
       "    <tr>\n",
       "      <th>4</th>\n",
       "      <td>Space missions help us to develop new technolo...</td>\n",
       "      <td>positive</td>\n",
       "      <td>space missions help us to develop new technolo...</td>\n",
       "    </tr>\n",
       "  </tbody>\n",
       "</table>\n",
       "</div>"
      ],
      "text/plain": [
       "                                               Tweet Sentiment  \\\n",
       "0  Space missions help us learn more about the un...  positive   \n",
       "1  They advance scientific knowledge and improve ...  positive   \n",
       "2  Space missions help to inspire the next genera...  positive   \n",
       "3  They provide opportunities for international c...  positive   \n",
       "4  Space missions help us to develop new technolo...  positive   \n",
       "\n",
       "                                              tweets  \n",
       "0  space missions help us learn more about the un...  \n",
       "1  they advance scientific knowledge and improve ...  \n",
       "2  space missions help to inspire the next genera...  \n",
       "3  they provide opportunities for international c...  \n",
       "4  space missions help us to develop new technolo...  "
      ]
     },
     "execution_count": 5,
     "metadata": {},
     "output_type": "execute_result"
    }
   ],
   "source": [
    "df.head()"
   ]
  },
  {
   "cell_type": "code",
   "execution_count": 10,
   "id": "49533588",
   "metadata": {},
   "outputs": [],
   "source": [
    "###pos_tagging, lemmatization, tokenization and modelling\n",
    "import nltk\n",
    "from nltk import pos_tag, word_tokenize\n",
    "from nltk.stem import WordNetLemmatizer\n",
    "\n",
    "pos_tagged_tweets = []\n",
    "\n",
    "for tweet in df['tweets']:\n",
    "    tokens = []\n",
    "\n",
    "    #words to tokenize\n",
    "    words = word_tokenize(tweet)\n",
    "    for word in words:\n",
    "        tokens.append(word)\n",
    "\n",
    "    #pos_tagging\n",
    "    tags_pos = pos_tag(tokens)\n",
    "\n",
    "    pos_tagged_tweets.append(tags_pos)\n",
    "\n",
    "\n",
    "df['pos_tags'] = pos_tagged_tweets"
   ]
  },
  {
   "cell_type": "code",
   "execution_count": 15,
   "id": "e8454d53",
   "metadata": {},
   "outputs": [],
   "source": [
    "##lemmatization with pos_tags\n",
    "def wordnet_pos(tag):\n",
    "    if tag.startswith('J'):\n",
    "        return 'a' #adjective\n",
    "    elif tag.startswith('V'):\n",
    "        return 'v' #verb\n",
    "    elif tag.startswith('R'):\n",
    "        return 'r' #adverb\n",
    "    elif tag.startswith('N'):\n",
    "        return 'n' #noun\n",
    "    else:\n",
    "        return 'r'\n",
    "\n",
    "#instantiate lemmatizer \n",
    "lemmatizer = WordNetLemmatizer()\n",
    "\n",
    "lem_tweets = []\n",
    "\n",
    "for tag_t in df['pos_tags']:\n",
    "    lem_words = []\n",
    "\n",
    "    for word, tag in tag_t:\n",
    "        new_tag = wordnet_pos(tag)\n",
    "        lemma = lemmatizer.lemmatize(word, new_tag)\n",
    "        lem_words.append(lemma)\n",
    "\n",
    "    lem_tweets.append(lem_words)\n",
    "\n",
    "df['lemmatized_pos'] = lem_tweets\n",
    "\n",
    "\n",
    "    "
   ]
  },
  {
   "cell_type": "code",
   "execution_count": 14,
   "id": "b7d908e7",
   "metadata": {},
   "outputs": [
    {
     "data": {
      "application/vnd.microsoft.datawrangler.viewer.v0+json": {
       "columns": [
        {
         "name": "index",
         "rawType": "int64",
         "type": "integer"
        },
        {
         "name": "lemmatized_pos",
         "rawType": "object",
         "type": "unknown"
        }
       ],
       "ref": "764cfea4-87f9-4196-a027-64abf1fb8387",
       "rows": [
        [
         "0",
         "['space', 'mission', 'help', 'us', 'learn', 'more', 'about', 'the', 'universe', 'and', 'our', 'place', 'in', 'it']"
        ],
        [
         "1",
         "['they', 'advance', 'scientific', 'knowledge', 'and', 'improve', 'our', 'understanding', 'of', 'space', 'and', 'technology']"
        ],
        [
         "2",
         "['space', 'mission', 'help', 'to', 'inspire', 'the', 'next', 'generation', 'of', 'scientist', 'and', 'engineer']"
        ],
        [
         "3",
         "['they', 'provide', 'opportunity', 'for', 'international', 'cooperation', 'and', 'collaboration']"
        ],
        [
         "4",
         "['space', 'mission', 'help', 'us', 'to', 'develop', 'new', 'technology', 'and', 'material', 'that', 'have', 'practical', 'application', 'on', 'earth']"
        ]
       ],
       "shape": {
        "columns": 1,
        "rows": 5
       }
      },
      "text/plain": [
       "0    [space, mission, help, us, learn, more, about,...\n",
       "1    [they, advance, scientific, knowledge, and, im...\n",
       "2    [space, mission, help, to, inspire, the, next,...\n",
       "3    [they, provide, opportunity, for, internationa...\n",
       "4    [space, mission, help, us, to, develop, new, t...\n",
       "Name: lemmatized_pos, dtype: object"
      ]
     },
     "execution_count": 14,
     "metadata": {},
     "output_type": "execute_result"
    }
   ],
   "source": [
    "df['lemmatized_pos'].head()"
   ]
  }
 ],
 "metadata": {
  "kernelspec": {
   "display_name": "nlp_env",
   "language": "python",
   "name": "python3"
  },
  "language_info": {
   "codemirror_mode": {
    "name": "ipython",
    "version": 3
   },
   "file_extension": ".py",
   "mimetype": "text/x-python",
   "name": "python",
   "nbconvert_exporter": "python",
   "pygments_lexer": "ipython3",
   "version": "3.11.11"
  }
 },
 "nbformat": 4,
 "nbformat_minor": 5
}
