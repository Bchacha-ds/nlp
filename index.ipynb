{
 "cells": [
  {
   "cell_type": "markdown",
   "id": "32665500",
   "metadata": {},
   "source": [
    "## NLP(Natural Language Processing)\n",
    "When we talk about data, we not only reference numbers, but also text and human speech. But how do we approach the latter? This field covers both linguistics and AI. We'll not be needed to understand linguistics in depth ie morphology, semantics, pragmatics etc. because those who came before us figure out a way to give use the tools necessary to work with human language without that hassle.\n",
    "\n",
    "So in this section will cover how to use these tools(NLTK) when our analytics involves text data(human language).\n",
    "\n",
    "We'll be using a very popular library in Natural Language Processing called NLTK(Natural Language Tool Kit).\n",
    "\n",
    "\n",
    "#### Objectives\n",
    "1. Preprocessing and Exploring Text Data.\n",
    "2. Preparing our data for machine learning(Vectorizing).\n",
    "3. Fitting machine learning models with text data(vectorized data).\n",
    "\n",
    "When working with text data, the bulk of the tasks involves preparation of the data. Unlike the normal data where the steps are pretty straightforward/rigid, in text data you have to adjust based on the nature of the data and the objectives you are aiming for.\n"
   ]
  }
 ],
 "metadata": {
  "language_info": {
   "name": "python"
  }
 },
 "nbformat": 4,
 "nbformat_minor": 5
}
